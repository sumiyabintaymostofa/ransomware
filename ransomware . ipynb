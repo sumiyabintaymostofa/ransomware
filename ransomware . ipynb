{
  "nbformat": 4,
  "nbformat_minor": 0,
  "metadata": {
    "colab": {
      "provenance": [],
      "authorship_tag": "ABX9TyO2g5K6DpTkyx3RwCZItV0b",
      "include_colab_link": true
    },
    "kernelspec": {
      "name": "python3",
      "display_name": "Python 3"
    },
    "language_info": {
      "name": "python"
    }
  },
  "cells": [
    {
      "cell_type": "markdown",
      "metadata": {
        "id": "view-in-github",
        "colab_type": "text"
      },
      "source": [
        "<a href=\"https://colab.research.google.com/github/sumiyabintaymostofa/ransomware/blob/main/ransomware%20.%20ipynb\" target=\"_parent\"><img src=\"https://colab.research.google.com/assets/colab-badge.svg\" alt=\"Open In Colab\"/></a>"
      ]
    },
    {
      "cell_type": "code",
      "execution_count": 1,
      "metadata": {
        "id": "q_EWmL4-jZOc"
      },
      "outputs": [],
      "source": [
        "import pandas as pd\n",
        "from google.colab import drive"
      ]
    },
    {
      "cell_type": "code",
      "source": [
        "# Mount Google Drive\n",
        "drive.mount('/content/drive')"
      ],
      "metadata": {
        "colab": {
          "base_uri": "https://localhost:8080/"
        },
        "id": "QscMYRj4jijB",
        "outputId": "096453fb-3ae1-43f3-fa8b-a624ef6cb9d9"
      },
      "execution_count": 2,
      "outputs": [
        {
          "output_type": "stream",
          "name": "stdout",
          "text": [
            "Mounted at /content/drive\n"
          ]
        }
      ]
    },
    {
      "cell_type": "code",
      "source": [
        "# Load dataset\n",
        "df = pd.read_csv('/content/drive/MyDrive/data_file.csv') #download and paste here the link from google drive\n"
      ],
      "metadata": {
        "id": "ALxBjppmj0fp"
      },
      "execution_count": 3,
      "outputs": []
    },
    {
      "cell_type": "code",
      "source": [
        "# Preview shape and column names\n",
        "print(\"Dataset loaded successfully.\")\n",
        "print(\"Shape:\", df.shape)\n",
        "print(\"Columns:\", df.columns.tolist())"
      ],
      "metadata": {
        "colab": {
          "base_uri": "https://localhost:8080/"
        },
        "id": "9vVn6XaGkFF5",
        "outputId": "236d95cd-fdf1-4ef5-ecb6-9d8ab3a2c6ee"
      },
      "execution_count": 4,
      "outputs": [
        {
          "output_type": "stream",
          "name": "stdout",
          "text": [
            "Dataset loaded successfully.\n",
            "Shape: (62485, 18)\n",
            "Columns: ['FileName', 'md5Hash', 'Machine', 'DebugSize', 'DebugRVA', 'MajorImageVersion', 'MajorOSVersion', 'ExportRVA', 'ExportSize', 'IatVRA', 'MajorLinkerVersion', 'MinorLinkerVersion', 'NumberOfSections', 'SizeOfStackReserve', 'DllCharacteristics', 'ResourceSize', 'BitcoinAddresses', 'Benign']\n"
          ]
        }
      ]
    },
    {
      "cell_type": "code",
      "source": [
        "# Show first few rows\n",
        "display(df.head())\n",
        "\n",
        "# Show value counts for 'Benign' column\n",
        "display(df['Benign'].value_counts())"
      ],
      "metadata": {
        "colab": {
          "base_uri": "https://localhost:8080/",
          "height": 387
        },
        "id": "MoiBAvtcmAUo",
        "outputId": "b6876e15-74d5-4670-9e66-0d7a211ca886"
      },
      "execution_count": 13,
      "outputs": [
        {
          "output_type": "display_data",
          "data": {
            "text/plain": [
              "                                            FileName  \\\n",
              "0           0124e21d-018c-4ce0-92a3-b9e205a76bc0.dll   \n",
              "1       05c8318f98a5d301d80000009c316005.vertdll.dll   \n",
              "2           06054fba-5619-4a86-a861-ffb0464bef5d.dll   \n",
              "3        075822ac99a5d301660400009c316005.adhapi.dll   \n",
              "4  090607dd9ba5d301ca0900009c316005.SensorsNative...   \n",
              "\n",
              "                            md5Hash  Machine  DebugSize  DebugRVA  \\\n",
              "0  79755c51e413ed3c6be4635fd729a6e1      332          0         0   \n",
              "1  95e19f3657d34a432eada93221b0ea16    34404         84    121728   \n",
              "2  85c32641d77a54e19ba8ea4ab305c791      332          0         0   \n",
              "3  62e3b959d982ef534b66f819fe15f085    34404         84     19904   \n",
              "4  ae38c5f7d313ad0ff3bfb8826476767f    34404         84     97728   \n",
              "\n",
              "   MajorImageVersion  MajorOSVersion  ExportRVA  ExportSize  IatVRA  \\\n",
              "0                  0               4          0           0    8192   \n",
              "1                 10              10     126576        4930       0   \n",
              "2                  0               4          0           0    8192   \n",
              "3                 10              10      21312         252   18160   \n",
              "4                 10              10     105792        1852   70592   \n",
              "\n",
              "   MajorLinkerVersion  MinorLinkerVersion  NumberOfSections  \\\n",
              "0                   8                   0                 3   \n",
              "1                  14                  10                 8   \n",
              "2                   8                   0                 3   \n",
              "3                  14                  10                 6   \n",
              "4                  14                  10                 7   \n",
              "\n",
              "   SizeOfStackReserve  DllCharacteristics  ResourceSize  BitcoinAddresses  \\\n",
              "0             1048576               34112           672                 0   \n",
              "1              262144               16864          1024                 0   \n",
              "2             1048576               34112           672                 0   \n",
              "3              262144               16736          1040                 0   \n",
              "4              262144               16736          1096                 0   \n",
              "\n",
              "   Benign  \n",
              "0       1  \n",
              "1       1  \n",
              "2       1  \n",
              "3       1  \n",
              "4       1  "
            ],
            "text/html": [
              "\n",
              "  <div id=\"df-d00377b3-ab21-47bb-8843-abf51fd6eb7e\" class=\"colab-df-container\">\n",
              "    <div>\n",
              "<style scoped>\n",
              "    .dataframe tbody tr th:only-of-type {\n",
              "        vertical-align: middle;\n",
              "    }\n",
              "\n",
              "    .dataframe tbody tr th {\n",
              "        vertical-align: top;\n",
              "    }\n",
              "\n",
              "    .dataframe thead th {\n",
              "        text-align: right;\n",
              "    }\n",
              "</style>\n",
              "<table border=\"1\" class=\"dataframe\">\n",
              "  <thead>\n",
              "    <tr style=\"text-align: right;\">\n",
              "      <th></th>\n",
              "      <th>FileName</th>\n",
              "      <th>md5Hash</th>\n",
              "      <th>Machine</th>\n",
              "      <th>DebugSize</th>\n",
              "      <th>DebugRVA</th>\n",
              "      <th>MajorImageVersion</th>\n",
              "      <th>MajorOSVersion</th>\n",
              "      <th>ExportRVA</th>\n",
              "      <th>ExportSize</th>\n",
              "      <th>IatVRA</th>\n",
              "      <th>MajorLinkerVersion</th>\n",
              "      <th>MinorLinkerVersion</th>\n",
              "      <th>NumberOfSections</th>\n",
              "      <th>SizeOfStackReserve</th>\n",
              "      <th>DllCharacteristics</th>\n",
              "      <th>ResourceSize</th>\n",
              "      <th>BitcoinAddresses</th>\n",
              "      <th>Benign</th>\n",
              "    </tr>\n",
              "  </thead>\n",
              "  <tbody>\n",
              "    <tr>\n",
              "      <th>0</th>\n",
              "      <td>0124e21d-018c-4ce0-92a3-b9e205a76bc0.dll</td>\n",
              "      <td>79755c51e413ed3c6be4635fd729a6e1</td>\n",
              "      <td>332</td>\n",
              "      <td>0</td>\n",
              "      <td>0</td>\n",
              "      <td>0</td>\n",
              "      <td>4</td>\n",
              "      <td>0</td>\n",
              "      <td>0</td>\n",
              "      <td>8192</td>\n",
              "      <td>8</td>\n",
              "      <td>0</td>\n",
              "      <td>3</td>\n",
              "      <td>1048576</td>\n",
              "      <td>34112</td>\n",
              "      <td>672</td>\n",
              "      <td>0</td>\n",
              "      <td>1</td>\n",
              "    </tr>\n",
              "    <tr>\n",
              "      <th>1</th>\n",
              "      <td>05c8318f98a5d301d80000009c316005.vertdll.dll</td>\n",
              "      <td>95e19f3657d34a432eada93221b0ea16</td>\n",
              "      <td>34404</td>\n",
              "      <td>84</td>\n",
              "      <td>121728</td>\n",
              "      <td>10</td>\n",
              "      <td>10</td>\n",
              "      <td>126576</td>\n",
              "      <td>4930</td>\n",
              "      <td>0</td>\n",
              "      <td>14</td>\n",
              "      <td>10</td>\n",
              "      <td>8</td>\n",
              "      <td>262144</td>\n",
              "      <td>16864</td>\n",
              "      <td>1024</td>\n",
              "      <td>0</td>\n",
              "      <td>1</td>\n",
              "    </tr>\n",
              "    <tr>\n",
              "      <th>2</th>\n",
              "      <td>06054fba-5619-4a86-a861-ffb0464bef5d.dll</td>\n",
              "      <td>85c32641d77a54e19ba8ea4ab305c791</td>\n",
              "      <td>332</td>\n",
              "      <td>0</td>\n",
              "      <td>0</td>\n",
              "      <td>0</td>\n",
              "      <td>4</td>\n",
              "      <td>0</td>\n",
              "      <td>0</td>\n",
              "      <td>8192</td>\n",
              "      <td>8</td>\n",
              "      <td>0</td>\n",
              "      <td>3</td>\n",
              "      <td>1048576</td>\n",
              "      <td>34112</td>\n",
              "      <td>672</td>\n",
              "      <td>0</td>\n",
              "      <td>1</td>\n",
              "    </tr>\n",
              "    <tr>\n",
              "      <th>3</th>\n",
              "      <td>075822ac99a5d301660400009c316005.adhapi.dll</td>\n",
              "      <td>62e3b959d982ef534b66f819fe15f085</td>\n",
              "      <td>34404</td>\n",
              "      <td>84</td>\n",
              "      <td>19904</td>\n",
              "      <td>10</td>\n",
              "      <td>10</td>\n",
              "      <td>21312</td>\n",
              "      <td>252</td>\n",
              "      <td>18160</td>\n",
              "      <td>14</td>\n",
              "      <td>10</td>\n",
              "      <td>6</td>\n",
              "      <td>262144</td>\n",
              "      <td>16736</td>\n",
              "      <td>1040</td>\n",
              "      <td>0</td>\n",
              "      <td>1</td>\n",
              "    </tr>\n",
              "    <tr>\n",
              "      <th>4</th>\n",
              "      <td>090607dd9ba5d301ca0900009c316005.SensorsNative...</td>\n",
              "      <td>ae38c5f7d313ad0ff3bfb8826476767f</td>\n",
              "      <td>34404</td>\n",
              "      <td>84</td>\n",
              "      <td>97728</td>\n",
              "      <td>10</td>\n",
              "      <td>10</td>\n",
              "      <td>105792</td>\n",
              "      <td>1852</td>\n",
              "      <td>70592</td>\n",
              "      <td>14</td>\n",
              "      <td>10</td>\n",
              "      <td>7</td>\n",
              "      <td>262144</td>\n",
              "      <td>16736</td>\n",
              "      <td>1096</td>\n",
              "      <td>0</td>\n",
              "      <td>1</td>\n",
              "    </tr>\n",
              "  </tbody>\n",
              "</table>\n",
              "</div>\n",
              "    <div class=\"colab-df-buttons\">\n",
              "\n",
              "  <div class=\"colab-df-container\">\n",
              "    <button class=\"colab-df-convert\" onclick=\"convertToInteractive('df-d00377b3-ab21-47bb-8843-abf51fd6eb7e')\"\n",
              "            title=\"Convert this dataframe to an interactive table.\"\n",
              "            style=\"display:none;\">\n",
              "\n",
              "  <svg xmlns=\"http://www.w3.org/2000/svg\" height=\"24px\" viewBox=\"0 -960 960 960\">\n",
              "    <path d=\"M120-120v-720h720v720H120Zm60-500h600v-160H180v160Zm220 220h160v-160H400v160Zm0 220h160v-160H400v160ZM180-400h160v-160H180v160Zm440 0h160v-160H620v160ZM180-180h160v-160H180v160Zm440 0h160v-160H620v160Z\"/>\n",
              "  </svg>\n",
              "    </button>\n",
              "\n",
              "  <style>\n",
              "    .colab-df-container {\n",
              "      display:flex;\n",
              "      gap: 12px;\n",
              "    }\n",
              "\n",
              "    .colab-df-convert {\n",
              "      background-color: #E8F0FE;\n",
              "      border: none;\n",
              "      border-radius: 50%;\n",
              "      cursor: pointer;\n",
              "      display: none;\n",
              "      fill: #1967D2;\n",
              "      height: 32px;\n",
              "      padding: 0 0 0 0;\n",
              "      width: 32px;\n",
              "    }\n",
              "\n",
              "    .colab-df-convert:hover {\n",
              "      background-color: #E2EBFA;\n",
              "      box-shadow: 0px 1px 2px rgba(60, 64, 67, 0.3), 0px 1px 3px 1px rgba(60, 64, 67, 0.15);\n",
              "      fill: #174EA6;\n",
              "    }\n",
              "\n",
              "    .colab-df-buttons div {\n",
              "      margin-bottom: 4px;\n",
              "    }\n",
              "\n",
              "    [theme=dark] .colab-df-convert {\n",
              "      background-color: #3B4455;\n",
              "      fill: #D2E3FC;\n",
              "    }\n",
              "\n",
              "    [theme=dark] .colab-df-convert:hover {\n",
              "      background-color: #434B5C;\n",
              "      box-shadow: 0px 1px 3px 1px rgba(0, 0, 0, 0.15);\n",
              "      filter: drop-shadow(0px 1px 2px rgba(0, 0, 0, 0.3));\n",
              "      fill: #FFFFFF;\n",
              "    }\n",
              "  </style>\n",
              "\n",
              "    <script>\n",
              "      const buttonEl =\n",
              "        document.querySelector('#df-d00377b3-ab21-47bb-8843-abf51fd6eb7e button.colab-df-convert');\n",
              "      buttonEl.style.display =\n",
              "        google.colab.kernel.accessAllowed ? 'block' : 'none';\n",
              "\n",
              "      async function convertToInteractive(key) {\n",
              "        const element = document.querySelector('#df-d00377b3-ab21-47bb-8843-abf51fd6eb7e');\n",
              "        const dataTable =\n",
              "          await google.colab.kernel.invokeFunction('convertToInteractive',\n",
              "                                                    [key], {});\n",
              "        if (!dataTable) return;\n",
              "\n",
              "        const docLinkHtml = 'Like what you see? Visit the ' +\n",
              "          '<a target=\"_blank\" href=https://colab.research.google.com/notebooks/data_table.ipynb>data table notebook</a>'\n",
              "          + ' to learn more about interactive tables.';\n",
              "        element.innerHTML = '';\n",
              "        dataTable['output_type'] = 'display_data';\n",
              "        await google.colab.output.renderOutput(dataTable, element);\n",
              "        const docLink = document.createElement('div');\n",
              "        docLink.innerHTML = docLinkHtml;\n",
              "        element.appendChild(docLink);\n",
              "      }\n",
              "    </script>\n",
              "  </div>\n",
              "\n",
              "\n",
              "    <div id=\"df-a8710b49-4ad5-403a-99d7-9010269ce356\">\n",
              "      <button class=\"colab-df-quickchart\" onclick=\"quickchart('df-a8710b49-4ad5-403a-99d7-9010269ce356')\"\n",
              "                title=\"Suggest charts\"\n",
              "                style=\"display:none;\">\n",
              "\n",
              "<svg xmlns=\"http://www.w3.org/2000/svg\" height=\"24px\"viewBox=\"0 0 24 24\"\n",
              "     width=\"24px\">\n",
              "    <g>\n",
              "        <path d=\"M19 3H5c-1.1 0-2 .9-2 2v14c0 1.1.9 2 2 2h14c1.1 0 2-.9 2-2V5c0-1.1-.9-2-2-2zM9 17H7v-7h2v7zm4 0h-2V7h2v10zm4 0h-2v-4h2v4z\"/>\n",
              "    </g>\n",
              "</svg>\n",
              "      </button>\n",
              "\n",
              "<style>\n",
              "  .colab-df-quickchart {\n",
              "      --bg-color: #E8F0FE;\n",
              "      --fill-color: #1967D2;\n",
              "      --hover-bg-color: #E2EBFA;\n",
              "      --hover-fill-color: #174EA6;\n",
              "      --disabled-fill-color: #AAA;\n",
              "      --disabled-bg-color: #DDD;\n",
              "  }\n",
              "\n",
              "  [theme=dark] .colab-df-quickchart {\n",
              "      --bg-color: #3B4455;\n",
              "      --fill-color: #D2E3FC;\n",
              "      --hover-bg-color: #434B5C;\n",
              "      --hover-fill-color: #FFFFFF;\n",
              "      --disabled-bg-color: #3B4455;\n",
              "      --disabled-fill-color: #666;\n",
              "  }\n",
              "\n",
              "  .colab-df-quickchart {\n",
              "    background-color: var(--bg-color);\n",
              "    border: none;\n",
              "    border-radius: 50%;\n",
              "    cursor: pointer;\n",
              "    display: none;\n",
              "    fill: var(--fill-color);\n",
              "    height: 32px;\n",
              "    padding: 0;\n",
              "    width: 32px;\n",
              "  }\n",
              "\n",
              "  .colab-df-quickchart:hover {\n",
              "    background-color: var(--hover-bg-color);\n",
              "    box-shadow: 0 1px 2px rgba(60, 64, 67, 0.3), 0 1px 3px 1px rgba(60, 64, 67, 0.15);\n",
              "    fill: var(--button-hover-fill-color);\n",
              "  }\n",
              "\n",
              "  .colab-df-quickchart-complete:disabled,\n",
              "  .colab-df-quickchart-complete:disabled:hover {\n",
              "    background-color: var(--disabled-bg-color);\n",
              "    fill: var(--disabled-fill-color);\n",
              "    box-shadow: none;\n",
              "  }\n",
              "\n",
              "  .colab-df-spinner {\n",
              "    border: 2px solid var(--fill-color);\n",
              "    border-color: transparent;\n",
              "    border-bottom-color: var(--fill-color);\n",
              "    animation:\n",
              "      spin 1s steps(1) infinite;\n",
              "  }\n",
              "\n",
              "  @keyframes spin {\n",
              "    0% {\n",
              "      border-color: transparent;\n",
              "      border-bottom-color: var(--fill-color);\n",
              "      border-left-color: var(--fill-color);\n",
              "    }\n",
              "    20% {\n",
              "      border-color: transparent;\n",
              "      border-left-color: var(--fill-color);\n",
              "      border-top-color: var(--fill-color);\n",
              "    }\n",
              "    30% {\n",
              "      border-color: transparent;\n",
              "      border-left-color: var(--fill-color);\n",
              "      border-top-color: var(--fill-color);\n",
              "      border-right-color: var(--fill-color);\n",
              "    }\n",
              "    40% {\n",
              "      border-color: transparent;\n",
              "      border-right-color: var(--fill-color);\n",
              "      border-top-color: var(--fill-color);\n",
              "    }\n",
              "    60% {\n",
              "      border-color: transparent;\n",
              "      border-right-color: var(--fill-color);\n",
              "    }\n",
              "    80% {\n",
              "      border-color: transparent;\n",
              "      border-right-color: var(--fill-color);\n",
              "      border-bottom-color: var(--fill-color);\n",
              "    }\n",
              "    90% {\n",
              "      border-color: transparent;\n",
              "      border-bottom-color: var(--fill-color);\n",
              "    }\n",
              "  }\n",
              "</style>\n",
              "\n",
              "      <script>\n",
              "        async function quickchart(key) {\n",
              "          const quickchartButtonEl =\n",
              "            document.querySelector('#' + key + ' button');\n",
              "          quickchartButtonEl.disabled = true;  // To prevent multiple clicks.\n",
              "          quickchartButtonEl.classList.add('colab-df-spinner');\n",
              "          try {\n",
              "            const charts = await google.colab.kernel.invokeFunction(\n",
              "                'suggestCharts', [key], {});\n",
              "          } catch (error) {\n",
              "            console.error('Error during call to suggestCharts:', error);\n",
              "          }\n",
              "          quickchartButtonEl.classList.remove('colab-df-spinner');\n",
              "          quickchartButtonEl.classList.add('colab-df-quickchart-complete');\n",
              "        }\n",
              "        (() => {\n",
              "          let quickchartButtonEl =\n",
              "            document.querySelector('#df-a8710b49-4ad5-403a-99d7-9010269ce356 button');\n",
              "          quickchartButtonEl.style.display =\n",
              "            google.colab.kernel.accessAllowed ? 'block' : 'none';\n",
              "        })();\n",
              "      </script>\n",
              "    </div>\n",
              "\n",
              "    </div>\n",
              "  </div>\n"
            ],
            "application/vnd.google.colaboratory.intrinsic+json": {
              "type": "dataframe",
              "summary": "{\n  \"name\": \"display(df['Benign']\",\n  \"rows\": 5,\n  \"fields\": [\n    {\n      \"column\": \"FileName\",\n      \"properties\": {\n        \"dtype\": \"string\",\n        \"num_unique_values\": 5,\n        \"samples\": [\n          \"05c8318f98a5d301d80000009c316005.vertdll.dll\",\n          \"090607dd9ba5d301ca0900009c316005.SensorsNativeApi.V2.dll\",\n          \"06054fba-5619-4a86-a861-ffb0464bef5d.dll\"\n        ],\n        \"semantic_type\": \"\",\n        \"description\": \"\"\n      }\n    },\n    {\n      \"column\": \"md5Hash\",\n      \"properties\": {\n        \"dtype\": \"string\",\n        \"num_unique_values\": 5,\n        \"samples\": [\n          \"95e19f3657d34a432eada93221b0ea16\",\n          \"ae38c5f7d313ad0ff3bfb8826476767f\",\n          \"85c32641d77a54e19ba8ea4ab305c791\"\n        ],\n        \"semantic_type\": \"\",\n        \"description\": \"\"\n      }\n    },\n    {\n      \"column\": \"Machine\",\n      \"properties\": {\n        \"dtype\": \"number\",\n        \"std\": 18662,\n        \"min\": 332,\n        \"max\": 34404,\n        \"num_unique_values\": 2,\n        \"samples\": [\n          34404,\n          332\n        ],\n        \"semantic_type\": \"\",\n        \"description\": \"\"\n      }\n    },\n    {\n      \"column\": \"DebugSize\",\n      \"properties\": {\n        \"dtype\": \"number\",\n        \"std\": 46,\n        \"min\": 0,\n        \"max\": 84,\n        \"num_unique_values\": 2,\n        \"samples\": [\n          84,\n          0\n        ],\n        \"semantic_type\": \"\",\n        \"description\": \"\"\n      }\n    },\n    {\n      \"column\": \"DebugRVA\",\n      \"properties\": {\n        \"dtype\": \"number\",\n        \"std\": 57675,\n        \"min\": 0,\n        \"max\": 121728,\n        \"num_unique_values\": 4,\n        \"samples\": [\n          121728,\n          97728\n        ],\n        \"semantic_type\": \"\",\n        \"description\": \"\"\n      }\n    },\n    {\n      \"column\": \"MajorImageVersion\",\n      \"properties\": {\n        \"dtype\": \"number\",\n        \"std\": 5,\n        \"min\": 0,\n        \"max\": 10,\n        \"num_unique_values\": 2,\n        \"samples\": [\n          10,\n          0\n        ],\n        \"semantic_type\": \"\",\n        \"description\": \"\"\n      }\n    },\n    {\n      \"column\": \"MajorOSVersion\",\n      \"properties\": {\n        \"dtype\": \"number\",\n        \"std\": 3,\n        \"min\": 4,\n        \"max\": 10,\n        \"num_unique_values\": 2,\n        \"samples\": [\n          10,\n          4\n        ],\n        \"semantic_type\": \"\",\n        \"description\": \"\"\n      }\n    },\n    {\n      \"column\": \"ExportRVA\",\n      \"properties\": {\n        \"dtype\": \"number\",\n        \"std\": 60821,\n        \"min\": 0,\n        \"max\": 126576,\n        \"num_unique_values\": 4,\n        \"samples\": [\n          126576,\n          105792\n        ],\n        \"semantic_type\": \"\",\n        \"description\": \"\"\n      }\n    },\n    {\n      \"column\": \"ExportSize\",\n      \"properties\": {\n        \"dtype\": \"number\",\n        \"std\": 2115,\n        \"min\": 0,\n        \"max\": 4930,\n        \"num_unique_values\": 4,\n        \"samples\": [\n          4930,\n          1852\n        ],\n        \"semantic_type\": \"\",\n        \"description\": \"\"\n      }\n    },\n    {\n      \"column\": \"IatVRA\",\n      \"properties\": {\n        \"dtype\": \"number\",\n        \"std\": 28445,\n        \"min\": 0,\n        \"max\": 70592,\n        \"num_unique_values\": 4,\n        \"samples\": [\n          0,\n          70592\n        ],\n        \"semantic_type\": \"\",\n        \"description\": \"\"\n      }\n    },\n    {\n      \"column\": \"MajorLinkerVersion\",\n      \"properties\": {\n        \"dtype\": \"number\",\n        \"std\": 3,\n        \"min\": 8,\n        \"max\": 14,\n        \"num_unique_values\": 2,\n        \"samples\": [\n          14,\n          8\n        ],\n        \"semantic_type\": \"\",\n        \"description\": \"\"\n      }\n    },\n    {\n      \"column\": \"MinorLinkerVersion\",\n      \"properties\": {\n        \"dtype\": \"number\",\n        \"std\": 5,\n        \"min\": 0,\n        \"max\": 10,\n        \"num_unique_values\": 2,\n        \"samples\": [\n          10,\n          0\n        ],\n        \"semantic_type\": \"\",\n        \"description\": \"\"\n      }\n    },\n    {\n      \"column\": \"NumberOfSections\",\n      \"properties\": {\n        \"dtype\": \"number\",\n        \"std\": 2,\n        \"min\": 3,\n        \"max\": 8,\n        \"num_unique_values\": 4,\n        \"samples\": [\n          8,\n          7\n        ],\n        \"semantic_type\": \"\",\n        \"description\": \"\"\n      }\n    },\n    {\n      \"column\": \"SizeOfStackReserve\",\n      \"properties\": {\n        \"dtype\": \"number\",\n        \"std\": 430746,\n        \"min\": 262144,\n        \"max\": 1048576,\n        \"num_unique_values\": 2,\n        \"samples\": [\n          262144,\n          1048576\n        ],\n        \"semantic_type\": \"\",\n        \"description\": \"\"\n      }\n    },\n    {\n      \"column\": \"DllCharacteristics\",\n      \"properties\": {\n        \"dtype\": \"number\",\n        \"std\": 9494,\n        \"min\": 16736,\n        \"max\": 34112,\n        \"num_unique_values\": 3,\n        \"samples\": [\n          34112,\n          16864\n        ],\n        \"semantic_type\": \"\",\n        \"description\": \"\"\n      }\n    },\n    {\n      \"column\": \"ResourceSize\",\n      \"properties\": {\n        \"dtype\": \"number\",\n        \"std\": 210,\n        \"min\": 672,\n        \"max\": 1096,\n        \"num_unique_values\": 4,\n        \"samples\": [\n          1024,\n          1096\n        ],\n        \"semantic_type\": \"\",\n        \"description\": \"\"\n      }\n    },\n    {\n      \"column\": \"BitcoinAddresses\",\n      \"properties\": {\n        \"dtype\": \"number\",\n        \"std\": 0,\n        \"min\": 0,\n        \"max\": 0,\n        \"num_unique_values\": 1,\n        \"samples\": [\n          0\n        ],\n        \"semantic_type\": \"\",\n        \"description\": \"\"\n      }\n    },\n    {\n      \"column\": \"Benign\",\n      \"properties\": {\n        \"dtype\": \"number\",\n        \"std\": 0,\n        \"min\": 1,\n        \"max\": 1,\n        \"num_unique_values\": 1,\n        \"samples\": [\n          1\n        ],\n        \"semantic_type\": \"\",\n        \"description\": \"\"\n      }\n    }\n  ]\n}"
            }
          },
          "metadata": {}
        },
        {
          "output_type": "display_data",
          "data": {
            "text/plain": [
              "Benign\n",
              "0    35367\n",
              "1    27118\n",
              "Name: count, dtype: int64"
            ],
            "text/html": [
              "<div>\n",
              "<style scoped>\n",
              "    .dataframe tbody tr th:only-of-type {\n",
              "        vertical-align: middle;\n",
              "    }\n",
              "\n",
              "    .dataframe tbody tr th {\n",
              "        vertical-align: top;\n",
              "    }\n",
              "\n",
              "    .dataframe thead th {\n",
              "        text-align: right;\n",
              "    }\n",
              "</style>\n",
              "<table border=\"1\" class=\"dataframe\">\n",
              "  <thead>\n",
              "    <tr style=\"text-align: right;\">\n",
              "      <th></th>\n",
              "      <th>count</th>\n",
              "    </tr>\n",
              "    <tr>\n",
              "      <th>Benign</th>\n",
              "      <th></th>\n",
              "    </tr>\n",
              "  </thead>\n",
              "  <tbody>\n",
              "    <tr>\n",
              "      <th>0</th>\n",
              "      <td>35367</td>\n",
              "    </tr>\n",
              "    <tr>\n",
              "      <th>1</th>\n",
              "      <td>27118</td>\n",
              "    </tr>\n",
              "  </tbody>\n",
              "</table>\n",
              "</div><br><label><b>dtype:</b> int64</label>"
            ]
          },
          "metadata": {}
        }
      ]
    },
    {
      "cell_type": "code",
      "source": [
        "# Drop identifier columns\n",
        "drop_cols = ['md5', 'sha1', 'file_extension']"
      ],
      "metadata": {
        "id": "pwhhgocImM3Y"
      },
      "execution_count": 14,
      "outputs": []
    },
    {
      "cell_type": "code",
      "source": [
        "# Create df1 for 'Class' prediction\n",
        "drop_cols = ['md5Hash', 'FileName']\n",
        "df1 = df.drop(columns=drop_cols)\n",
        "df1 = df1.select_dtypes(include=['int64', 'float64']).merge(df[['Benign']], left_index=True, right_index=True)"
      ],
      "metadata": {
        "id": "EC8qs5W3mSDA"
      },
      "execution_count": 17,
      "outputs": []
    },
    {
      "cell_type": "code",
      "source": [
        "# Create df2 for 'Category' prediction\n",
        "drop_cols = ['md5Hash', 'FileName']\n",
        "df2 = df.drop(columns=drop_cols)\n",
        "df2 = df2.select_dtypes(include=['int64', 'float64']).merge(df[['Benign']], left_index=True, right_index=True)"
      ],
      "metadata": {
        "id": "0BeFkTxDmuLQ"
      },
      "execution_count": 22,
      "outputs": []
    },
    {
      "cell_type": "code",
      "source": [
        "# Create df3 for 'Family' prediction\n",
        "drop_cols = ['md5Hash', 'FileName']\n",
        "df3 = df.drop(columns=drop_cols)\n",
        "df3 = df3.select_dtypes(include=['int64', 'float64']).merge(df[['Benign']], left_index=True, right_index=True)\n",
        "\n",
        "print(\"df1, df2, df3 created successfully:\")\n",
        "print(\"df1 shape (Class):\", df1.shape)\n",
        "print(\"df2 shape (Category):\", df2.shape)\n",
        "print(\"df3 shape (Family):\", df3.shape)\n"
      ],
      "metadata": {
        "colab": {
          "base_uri": "https://localhost:8080/"
        },
        "id": "Dn4dJAtum7HI",
        "outputId": "147fceef-8920-4e96-f870-1f9a8bbcfd18"
      },
      "execution_count": 23,
      "outputs": [
        {
          "output_type": "stream",
          "name": "stdout",
          "text": [
            "df1, df2, df3 created successfully:\n",
            "df1 shape (Class): (62485, 17)\n",
            "df2 shape (Category): (62485, 17)\n",
            "df3 shape (Family): (62485, 17)\n"
          ]
        }
      ]
    },
    {
      "cell_type": "code",
      "source": [
        "#df1, df2, df3 created successfully:\n",
        "#df1 shape (Class): (21752, 19)\n",
        "#df2 shape (Category): (21752, 19)\n",
        "#df3 shape (Family): (21752, 19)"
      ],
      "metadata": {
        "id": "a-OlGZ-qngwY"
      },
      "execution_count": 24,
      "outputs": []
    },
    {
      "cell_type": "code",
      "source": [
        "#Binary Class Classification\n",
        "\n",
        "import matplotlib.pyplot as plt\n",
        "from sklearn.model_selection import train_test_split\n",
        "from sklearn.preprocessing import LabelEncoder, StandardScaler\n",
        "from sklearn.metrics import accuracy_score, precision_score, recall_score, f1_score, confusion_matrix, roc_curve, auc\n",
        "from sklearn.tree import DecisionTreeClassifier\n",
        "from sklearn.neighbors import KNeighborsClassifier\n",
        "from sklearn.ensemble import RandomForestClassifier"
      ],
      "metadata": {
        "id": "lK-SaeDBnkR3"
      },
      "execution_count": 25,
      "outputs": []
    },
    {
      "cell_type": "code",
      "source": [
        "# 1. Feature-label split\n",
        "X = df1.drop(columns=['Benign_x'])\n",
        "y = df1['Benign_y']"
      ],
      "metadata": {
        "id": "KVunWnQbnpGX"
      },
      "execution_count": 28,
      "outputs": []
    },
    {
      "cell_type": "code",
      "source": [
        "# 2. Encode labels\n",
        "le = LabelEncoder()\n",
        "y_encoded = le.fit_transform(y)"
      ],
      "metadata": {
        "id": "Y3AABb0Vn-hw"
      },
      "execution_count": 29,
      "outputs": []
    },
    {
      "cell_type": "code",
      "source": [
        "# 3. Split and scale\n",
        "X_train, X_test, y_train, y_test = train_test_split(\n",
        "    X, y_encoded, test_size=0.2, random_state=42, stratify=y_encoded\n",
        "\n",
        ")\n",
        "scaler = StandardScaler()\n",
        "X_train_scaled = scaler.fit_transform(X_train)\n",
        "X_test_scaled = scaler.transform(X_test)"
      ],
      "metadata": {
        "id": "e7Mq6-fQoCRX"
      },
      "execution_count": 31,
      "outputs": []
    },
    {
      "cell_type": "code",
      "source": [
        "# 4. Define models\n",
        "models = {\n",
        "    'Decision Tree': DecisionTreeClassifier(random_state=42),\n",
        "    'KNN': KNeighborsClassifier(n_neighbors=5),\n",
        "    'Random Forest': RandomForestClassifier(n_estimators=100, random_state=42)\n",
        "}"
      ],
      "metadata": {
        "id": "bLxDfUBhoMK3"
      },
      "execution_count": 32,
      "outputs": []
    },
    {
      "cell_type": "code",
      "source": [
        "# 5. Train, Predict, Evaluate\n",
        "plt.figure(figsize=(10, 6))\n",
        "for name, model in models.items():\n",
        "    model.fit(X_train_scaled, y_train)\n",
        "    y_pred = model.predict(X_test_scaled)\n",
        "    y_prob = model.predict_proba(X_test_scaled)[:, 1]\n",
        "\n",
        "    print(f\"\\n {name} Metrics:\")\n",
        "    print(\"Accuracy :\", accuracy_score(y_test, y_pred))\n",
        "    print(\"Precision:\", precision_score(y_test, y_pred))\n",
        "    print(\"Recall   :\", recall_score(y_test, y_pred))\n",
        "    print(\"F1 Score :\", f1_score(y_test, y_pred))\n",
        "    print(\"Confusion Matrix:\\n\", confusion_matrix(y_test, y_pred))\n"
      ],
      "metadata": {
        "colab": {
          "base_uri": "https://localhost:8080/",
          "height": 503
        },
        "id": "gQmxZ7lToPiH",
        "outputId": "237f8910-9821-4483-8219-2aac4a8c6a18"
      },
      "execution_count": 33,
      "outputs": [
        {
          "output_type": "stream",
          "name": "stdout",
          "text": [
            "\n",
            " Decision Tree Metrics:\n",
            "Accuracy : 1.0\n",
            "Precision: 1.0\n",
            "Recall   : 1.0\n",
            "F1 Score : 1.0\n",
            "Confusion Matrix:\n",
            " [[7073    0]\n",
            " [   0 5424]]\n",
            "\n",
            " KNN Metrics:\n",
            "Accuracy : 0.9994398655677362\n",
            "Precision: 0.99926267281106\n",
            "Recall   : 0.9994469026548672\n",
            "F1 Score : 0.9993547792423265\n",
            "Confusion Matrix:\n",
            " [[7069    4]\n",
            " [   3 5421]]\n",
            "\n",
            " Random Forest Metrics:\n",
            "Accuracy : 1.0\n",
            "Precision: 1.0\n",
            "Recall   : 1.0\n",
            "F1 Score : 1.0\n",
            "Confusion Matrix:\n",
            " [[7073    0]\n",
            " [   0 5424]]\n"
          ]
        },
        {
          "output_type": "display_data",
          "data": {
            "text/plain": [
              "<Figure size 1000x600 with 0 Axes>"
            ]
          },
          "metadata": {}
        }
      ]
    },
    {
      "cell_type": "code",
      "source": [],
      "metadata": {
        "id": "7S3Yo74AoGzX"
      },
      "execution_count": null,
      "outputs": []
    },
    {
      "cell_type": "code",
      "source": [
        "# ROC curve\n",
        "fpr, tpr, _ = roc_curve(y_test, y_prob)\n",
        "roc_auc = auc(fpr, tpr)\n",
        "plt.plot(fpr, tpr, label=f'{name} (AUC = {roc_auc:.2f})')\n",
        "# 6. Plot ROC Curve\n",
        "plt.plot([0, 1], [0, 1], 'k--')\n",
        "plt.xlabel('False Positive Rate')\n",
        "plt.ylabel('True Positive Rate')\n",
        "plt.title('ROC Curve - Class (Benign vs Malware)')\n",
        "plt.legend()\n",
        "plt.grid(True)\n",
        "plt.tight_layout()\n",
        "plt.show()\n",
        "\n",
        "\n",
        "#ROC Curve for Binary Class Classification\n",
        "\n",
        "\n"
      ],
      "metadata": {
        "colab": {
          "base_uri": "https://localhost:8080/",
          "height": 487
        },
        "id": "-uQkWOWNnBUg",
        "outputId": "158e57fa-aca1-4da7-b26c-486fd854b97a"
      },
      "execution_count": 36,
      "outputs": [
        {
          "output_type": "display_data",
          "data": {
            "text/plain": [
              "<Figure size 640x480 with 1 Axes>"
            ],
            "image/png": "[encoded data removed]"
          },
          "metadata": {}
        }
      ]
    },
    {
      "cell_type": "code",
      "source": [
        "#Multiclass Classification (14 Classes)\n",
        "\n",
        "from sklearn.metrics import classification_report"
      ],
      "metadata": {
        "id": "Ff4X3y40upT1"
      },
      "execution_count": 52,
      "outputs": []
    }
  ]
}